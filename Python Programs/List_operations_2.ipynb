{
  "nbformat": 4,
  "nbformat_minor": 0,
  "metadata": {
    "colab": {
      "provenance": []
    },
    "kernelspec": {
      "name": "python3",
      "display_name": "Python 3"
    },
    "language_info": {
      "name": "python"
    }
  },
  "cells": [
    {
      "cell_type": "code",
      "execution_count": null,
      "metadata": {
        "colab": {
          "base_uri": "https://localhost:8080/"
        },
        "id": "f2PjhgY8D9za",
        "outputId": "bd8a1b89-1440-43f5-d970-375be9fe2a30"
      },
      "outputs": [
        {
          "output_type": "stream",
          "name": "stdout",
          "text": [
            "[6, 2, 3, 4, 5, 1]\n"
          ]
        }
      ],
      "source": [
        "# Write a python program to interchange first and last elements in a list.\n",
        "\n",
        "def swapList(newList):\n",
        "    size = len(newList)\n",
        "    temp = newList[0]\n",
        "    newList[0] = newList[size - 1]\n",
        "    newList[size - 1] = temp\n",
        "\n",
        "    return newList\n",
        "\n",
        "list  = [1,2,3,4,5,6]\n",
        "\n",
        "print(swapList(list))"
      ]
    },
    {
      "cell_type": "code",
      "source": [
        "# Write a Python program to find N largest and smallest elements from the list\n",
        "\n",
        "def maxel(list1, N):\n",
        "    final_list = []\n",
        "    for i in range(0, N):\n",
        "        max1 = 0\n",
        "        for j in range(len(list1)):\n",
        "            if list1[j] > max1:\n",
        "                max1 = list1[j]\n",
        "        list1.remove(max1)\n",
        "        final_list.append(max1)\n",
        "    return final_list\n",
        "\n",
        "\n",
        "def minel(l, n):\n",
        "    nSmallestList = []\n",
        "    for i in range(n):\n",
        "        nSmallestList.append(min(l))\n",
        "        l.remove(min(l))\n",
        "    return nSmallestList\n",
        "\n",
        "list = [1,2,3,4,5,6,7,8,9]\n",
        "print(\"Maximum two elements: \", maxel(list,2))\n",
        "print(\"Minimum two elements: \", minel(list,2))"
      ],
      "metadata": {
        "colab": {
          "base_uri": "https://localhost:8080/"
        },
        "id": "bQdvYwfCFe5b",
        "outputId": "4f45edbd-afe2-44e0-c012-1d1ddfd5ec7d"
      },
      "execution_count": null,
      "outputs": [
        {
          "output_type": "stream",
          "name": "stdout",
          "text": [
            "Maximum two elements:  [9, 8]\n",
            "Minimum two elements:  [1, 2]\n"
          ]
        }
      ]
    },
    {
      "cell_type": "code",
      "source": [
        "# Write a python program to find the cumulative sum of elements in a list\n",
        "\n",
        "def Cumulative(lists):\n",
        "    cu_list = []\n",
        "    length = len(lists)\n",
        "    cu_list = [sum(lists[0:x:1]) for x in range(0, length+1)]\n",
        "    return cu_list[1:]\n",
        "\n",
        "list = [1,2,3,4,5,6,7]\n",
        "\n",
        "print(Cumulative(list))"
      ],
      "metadata": {
        "colab": {
          "base_uri": "https://localhost:8080/"
        },
        "id": "viojIzEXGDiu",
        "outputId": "1b8a57fb-78d3-45ba-98a0-240db9c80cf3"
      },
      "execution_count": null,
      "outputs": [
        {
          "output_type": "stream",
          "name": "stdout",
          "text": [
            "[1, 3, 6, 10, 15, 21, 28]\n"
          ]
        }
      ]
    },
    {
      "cell_type": "code",
      "source": [
        "# Write a python program to find positive numbers from a list.\n",
        "\n",
        "def positive_num(list):\n",
        "  for i in list:\n",
        "    if (list[i]>=0):\n",
        "      return list[i]\n",
        "\n",
        "list = [-1,-2,-3,0, 4, -10]\n",
        "\n",
        "print(\"The positive numbers form the list are as follows : \" , positive_num(list))"
      ],
      "metadata": {
        "colab": {
          "base_uri": "https://localhost:8080/"
        },
        "id": "6FlMz2XaHKKF",
        "outputId": "99946dba-f4cc-40b7-f8d2-40bd6816e8ab"
      },
      "execution_count": null,
      "outputs": [
        {
          "output_type": "stream",
          "name": "stdout",
          "text": [
            "The positive numbers form the list are as follows :  4\n"
          ]
        }
      ]
    },
    {
      "cell_type": "code",
      "source": [
        "# Write a Python program to generate and print a list of first and last 5 elements where the values are square of numbers between 1 and 30 (both included).\n",
        "\n",
        "def printValues():\n",
        "\tl = []\n",
        "\tfor i in range(1,31):\n",
        "\t\tl.append(i**2)\n",
        "\tprint(l[:5])\n",
        "\tprint(l[-5:])\n",
        "\n",
        "printValues()"
      ],
      "metadata": {
        "colab": {
          "base_uri": "https://localhost:8080/"
        },
        "id": "7qWIhKahHrZM",
        "outputId": "60cb3c01-5049-491d-8dd2-ebfcd51797bf"
      },
      "execution_count": null,
      "outputs": [
        {
          "output_type": "stream",
          "name": "stdout",
          "text": [
            "[1, 4, 9, 16, 25]\n",
            "[676, 729, 784, 841, 900]\n"
          ]
        }
      ]
    },
    {
      "cell_type": "code",
      "source": [
        "# Write a Python | Program to create two lists with EVEN numbers and ODD numbers from a list.\n",
        "\n",
        "def splitevenodd(A):\n",
        "   evenlist = []\n",
        "   oddlist = []\n",
        "   for i in A:\n",
        "      if (i % 2 == 0):\n",
        "         evenlist.append(i)\n",
        "      else:\n",
        "         oddlist.append(i)\n",
        "   print(\"Even lists:\", evenlist)\n",
        "   print(\"Odd lists:\", oddlist)\n",
        "\n",
        "list = [2,3,5,6,7,10,11,23,46,77]\n",
        "print(splitevenodd(list))"
      ],
      "metadata": {
        "colab": {
          "base_uri": "https://localhost:8080/"
        },
        "id": "PSigAgw7OQUj",
        "outputId": "c7f4752d-c62c-4b7b-ac25-75e503c1ff0f"
      },
      "execution_count": null,
      "outputs": [
        {
          "output_type": "stream",
          "name": "stdout",
          "text": [
            "Even lists: [2, 6, 10, 46]\n",
            "Odd lists: [3, 5, 7, 11, 23, 77]\n",
            "None\n"
          ]
        }
      ]
    },
    {
      "cell_type": "code",
      "source": [
        "# Write a Python program to multiply all numbers of a list\n",
        "\n",
        "def multiplyList(myList):\n",
        "    result = 1\n",
        "    for x in myList:\n",
        "        result = result * x\n",
        "    return result\n",
        "\n",
        "list = [2,3,6,7,8]\n",
        "print(multiplyList(list))"
      ],
      "metadata": {
        "colab": {
          "base_uri": "https://localhost:8080/"
        },
        "id": "hJLTdTO-OhDU",
        "outputId": "9c449cb6-0d14-4d70-8702-1ef9e1b2d633"
      },
      "execution_count": null,
      "outputs": [
        {
          "output_type": "stream",
          "name": "stdout",
          "text": [
            "2016\n"
          ]
        }
      ]
    }
  ]
}