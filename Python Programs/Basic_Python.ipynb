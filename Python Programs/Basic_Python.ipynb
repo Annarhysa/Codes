{
  "nbformat": 4,
  "nbformat_minor": 0,
  "metadata": {
    "colab": {
      "provenance": []
    },
    "kernelspec": {
      "name": "python3",
      "display_name": "Python 3"
    },
    "language_info": {
      "name": "python"
    }
  },
  "cells": [
    {
      "cell_type": "code",
      "execution_count": null,
      "metadata": {
        "colab": {
          "base_uri": "https://localhost:8080/"
        },
        "id": "AcwHtWiWQ5gu",
        "outputId": "fa38ee3a-206d-429a-afd3-bc6377512f3a"
      },
      "outputs": [
        {
          "output_type": "stream",
          "name": "stdout",
          "text": [
            "enter integer 1: 10\n",
            "enter integer 2: 20\n",
            "The sum:  30\n",
            "The difference:  30\n",
            "The product:  200\n",
            "The division:  0.5\n"
          ]
        }
      ],
      "source": [
        "# Write a  Python program to perform arithmetic operations on two integers.\n",
        "\n",
        "a = int(input(\"enter integer 1: \"))\n",
        "b = int(input(\"enter integer 2: \"))\n",
        "print(\"The sum: \", a+b)\n",
        "print(\"The difference: \", abs(a+b))\n",
        "print(\"The product: \", a*b)\n",
        "print(\"The division: \", a/b)"
      ]
    },
    {
      "cell_type": "code",
      "source": [
        "# Write a Python Program to find the area of a triangle.\n",
        "\n",
        "a = int(input(\"enter the height of the triangle: \"))\n",
        "b = int(input(\"enter the base of the triangle: \"))\n",
        "\n",
        "print(\"the area of the triangle: \", (a*b)/2)"
      ],
      "metadata": {
        "colab": {
          "base_uri": "https://localhost:8080/"
        },
        "id": "ximrEfRYRiCb",
        "outputId": "ce066c52-534d-427f-ec00-f2fe9f8b1778"
      },
      "execution_count": null,
      "outputs": [
        {
          "output_type": "stream",
          "name": "stdout",
          "text": [
            "enter the height of the triangle: 10\n",
            "enter the base of the triangle: 20\n",
            "the area of the triangle:  100.0\n"
          ]
        }
      ]
    },
    {
      "cell_type": "code",
      "source": [
        "# Write a Python code to remove 6 characters from start of given string “Embedded Systems”\n",
        "\n",
        "string = \"Embedded system\"\n",
        "l = len(string)\n",
        "print(string[6:l])"
      ],
      "metadata": {
        "colab": {
          "base_uri": "https://localhost:8080/"
        },
        "id": "BzmJuSCqSGl9",
        "outputId": "ce738f94-498d-4b07-e3f5-30f97db4df74"
      },
      "execution_count": null,
      "outputs": [
        {
          "output_type": "stream",
          "name": "stdout",
          "text": [
            "ed system\n"
          ]
        }
      ]
    },
    {
      "cell_type": "code",
      "source": [
        "# Write the Python code to find the length of String “Computer Science”. Replace science with Electronics.\n",
        "\n",
        "string = \"Computer Science\"\n",
        "l = len(string)\n",
        "\n",
        "print(\"Lenght of the string: \", l)\n",
        "\n",
        "string_new = string[:8] + \" Electronics\"\n",
        "\n",
        "print(\"New String: \", string_new)"
      ],
      "metadata": {
        "id": "2QUH1xg4Sbjg",
        "colab": {
          "base_uri": "https://localhost:8080/"
        },
        "outputId": "3e3bcc5d-e317-4fd3-e6d0-1eb02e69f1a3"
      },
      "execution_count": 5,
      "outputs": [
        {
          "output_type": "stream",
          "name": "stdout",
          "text": [
            "Lenght of the string:  16\n",
            "New String:  Computer Electronics\n"
          ]
        }
      ]
    },
    {
      "cell_type": "code",
      "source": [
        "# Write the Python program to reverse a string from user input\n",
        "\n",
        "def reverse(s):\n",
        "    string = \"\"\n",
        "    for i in s:\n",
        "        string = i + string\n",
        "    return string\n",
        "\n",
        "s = str(input(\"Enter a sentence of your choice: \"))\n",
        "reverse(s)"
      ],
      "metadata": {
        "colab": {
          "base_uri": "https://localhost:8080/",
          "height": 53
        },
        "id": "BiLl4HkEO16B",
        "outputId": "c62508d6-c99f-4332-a543-33ec33ebb782"
      },
      "execution_count": 9,
      "outputs": [
        {
          "name": "stdout",
          "output_type": "stream",
          "text": [
            "Enter a sentence of your choice: Anna\n"
          ]
        },
        {
          "output_type": "execute_result",
          "data": {
            "text/plain": [
              "'annA'"
            ],
            "application/vnd.google.colaboratory.intrinsic+json": {
              "type": "string"
            }
          },
          "metadata": {},
          "execution_count": 9
        }
      ]
    }
  ]
}