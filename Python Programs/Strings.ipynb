{
  "nbformat": 4,
  "nbformat_minor": 0,
  "metadata": {
    "colab": {
      "provenance": []
    },
    "kernelspec": {
      "name": "python3",
      "display_name": "Python 3"
    },
    "language_info": {
      "name": "python"
    }
  },
  "cells": [
    {
      "cell_type": "code",
      "execution_count": 1,
      "metadata": {
        "colab": {
          "base_uri": "https://localhost:8080/"
        },
        "id": "VlCsFqkUBrlJ",
        "outputId": "735659ef-0696-41bb-d7b4-09d304e93679"
      },
      "outputs": [
        {
          "output_type": "stream",
          "name": "stdout",
          "text": [
            "{'R': 1, 'A': 1, '2': 1, '1': 5, '0': 3, '4': 3, '7': 1}\n"
          ]
        }
      ],
      "source": [
        "# 1.Write a Python program to count the number of characters (character frequency) in a string.\n",
        "\n",
        "str1 = \"RA2111047010144\"\n",
        "char_dict = dict()\n",
        "for char in str1:\n",
        "    count = str1.count(char)\n",
        "    char_dict[char] = count\n",
        "print(char_dict)"
      ]
    },
    {
      "cell_type": "code",
      "source": [
        "# 2.Write a Python program to get a string made of the first 2 and last 2 characters of a given string. If the string length is less than 2, return the empty string instead.\n",
        "\n",
        "string= \"Annarhysa Albert RA2111047010144\"\n",
        "count=0\n",
        "for i in string:\n",
        "      count=count+1\n",
        "new=string[0:2]+string[count-2:count]\n",
        "print(\"Newly formed string is:\", new)\n",
        "\n"
      ],
      "metadata": {
        "colab": {
          "base_uri": "https://localhost:8080/"
        },
        "id": "setLxAFBB40q",
        "outputId": "33456057-1655-4209-ac65-e12adea3f7ab"
      },
      "execution_count": 2,
      "outputs": [
        {
          "output_type": "stream",
          "name": "stdout",
          "text": [
            "Newly formed string is: An44\n"
          ]
        }
      ]
    },
    {
      "cell_type": "code",
      "source": [
        "# Write a Python program to get a string from a given string where all occurrences of its first char have been changed to &#39;$&#39;, except the first char itself.\n",
        "\n",
        "str1 = \"Annarhysa Albert\"\n",
        "char = str1[0]\n",
        "str1 = str1.replace(char, '$')\n",
        "str1 = char + str1[1:]\n",
        "print(str1)"
      ],
      "metadata": {
        "colab": {
          "base_uri": "https://localhost:8080/"
        },
        "id": "gC5FjRIeCCWn",
        "outputId": "42619495-c300-468c-b378-b6154e477022"
      },
      "execution_count": 3,
      "outputs": [
        {
          "output_type": "stream",
          "name": "stdout",
          "text": [
            "Annarhysa $lbert\n"
          ]
        }
      ]
    },
    {
      "cell_type": "code",
      "source": [
        "# Write a Python program to get a single string from two given strings, separated by a space and swap the first two characters of each string.\n",
        "a = \"Annarhysa Albert\"\n",
        "b = \"RA2111047010144\"\n",
        "new_a = b[:2] + a[2:]\n",
        "new_b = a[:2] + b[2:]\n",
        "print(new_a + ' ' + new_b)"
      ],
      "metadata": {
        "colab": {
          "base_uri": "https://localhost:8080/"
        },
        "id": "bXsUS_ymCQKc",
        "outputId": "88e8690c-39ec-4bef-cf3d-33cd610921c7"
      },
      "execution_count": 4,
      "outputs": [
        {
          "output_type": "stream",
          "name": "stdout",
          "text": [
            "RAnarhysa Albert An2111047010144\n"
          ]
        }
      ]
    },
    {
      "cell_type": "code",
      "source": [
        "# 5.Write a Python program to add &#39;ing&#39; at the end of a given string (length should be at least 3). If the given string already ends with &#39;ing&#39;, add &#39;ly&#39; instead.\n",
        "# If the string length of the given string is less than 3, leave it unchanged.\n",
        "\n",
        "str1 = \"Annarhysa Albert RA2111047010144\"\n",
        "length = len(str1)\n",
        "if length > 2:\n",
        "    if str1[-3:] == 'ing':\n",
        "        str1 += 'ly'\n",
        "    else:\n",
        "      str1 += 'ing'\n",
        "print(str1)"
      ],
      "metadata": {
        "colab": {
          "base_uri": "https://localhost:8080/"
        },
        "id": "cBxMCLx_CXAD",
        "outputId": "050b1d0e-e0de-4597-def8-d6e600a9ef27"
      },
      "execution_count": 5,
      "outputs": [
        {
          "output_type": "stream",
          "name": "stdout",
          "text": [
            "Annarhysa Albert RA2111047010144ing\n"
          ]
        }
      ]
    },
    {
      "cell_type": "code",
      "source": [
        "# Write a Python program to find the first appearance of the substrings\n",
        "\n",
        "str1 = \"RA2111047010144 is not poor\"\n",
        "snot = str1.find('not')\n",
        "spoor = str1.find('poor')\n",
        "if spoor > snot and snot>0 and spoor>0:\n",
        "    str1 = str1.replace(str1[snot:(spoor+4)], 'good')\n",
        "    print(str1)\n",
        "else:\n",
        "    print(str1)"
      ],
      "metadata": {
        "colab": {
          "base_uri": "https://localhost:8080/"
        },
        "id": "o8-pQYOaCetv",
        "outputId": "affbe9ab-8d45-41ef-f116-0bdd70db79c3"
      },
      "execution_count": 6,
      "outputs": [
        {
          "output_type": "stream",
          "name": "stdout",
          "text": [
            "RA2111047010144 is good\n"
          ]
        }
      ]
    },
    {
      "cell_type": "code",
      "source": [
        "# 7. Write a Python function that takes a list of words and return the longest word and the length of the longest one.\n",
        "\n",
        "a = [\"one\", \"two\", \"third\", \"four\"]\n",
        "max1 = len(a[0])\n",
        "temp = a[0]\n",
        "for i in a:\n",
        "    if(len(i) > max1):\n",
        "        max1 = len(i)\n",
        "        temp = i\n",
        "print(\"Longest word:\", temp)\n",
        "print(\"Lenght of the longest word: \", max1)"
      ],
      "metadata": {
        "colab": {
          "base_uri": "https://localhost:8080/"
        },
        "id": "vQjB9qHWCn18",
        "outputId": "c896002d-5c20-4113-b3b5-4dd75a8ca4d6"
      },
      "execution_count": 7,
      "outputs": [
        {
          "output_type": "stream",
          "name": "stdout",
          "text": [
            "Longest word: third\n",
            "Lenght of the longest word:  5\n"
          ]
        }
      ]
    },
    {
      "cell_type": "code",
      "source": [
        "# Write a Python program that accepts a comma-separated sequence of words as input and prints the distinct words in sorted form (alphanumerically).\n",
        "\n",
        "items = [\"Annarhysa Albert\", \"RA2111047010144\", \"SRM\"]\n",
        "print(\",\".join(sorted(list(set(items)))))"
      ],
      "metadata": {
        "colab": {
          "base_uri": "https://localhost:8080/"
        },
        "id": "yIPEinxICuZD",
        "outputId": "ccf31069-20d2-46ae-cf00-e6278c4ba51d"
      },
      "execution_count": 8,
      "outputs": [
        {
          "output_type": "stream",
          "name": "stdout",
          "text": [
            "Annarhysa Albert,RA2111047010144,SRM\n"
          ]
        }
      ]
    },
    {
      "cell_type": "code",
      "source": [
        "# Write a Python program to print the index of a character in a string.\n",
        "\n",
        "str1 = \"Annarhysa Albert\"\n",
        "for index, char in enumerate(str1):\n",
        "    print(\"Current character\", char, \"position at\", index )"
      ],
      "metadata": {
        "colab": {
          "base_uri": "https://localhost:8080/"
        },
        "id": "AkvrtiMzCxC6",
        "outputId": "81e915c9-c5bd-4439-a21c-cd3dc7bcb8d2"
      },
      "execution_count": 9,
      "outputs": [
        {
          "output_type": "stream",
          "name": "stdout",
          "text": [
            "Current character A position at 0\n",
            "Current character n position at 1\n",
            "Current character n position at 2\n",
            "Current character a position at 3\n",
            "Current character r position at 4\n",
            "Current character h position at 5\n",
            "Current character y position at 6\n",
            "Current character s position at 7\n",
            "Current character a position at 8\n",
            "Current character   position at 9\n",
            "Current character A position at 10\n",
            "Current character l position at 11\n",
            "Current character b position at 12\n",
            "Current character e position at 13\n",
            "Current character r position at 14\n",
            "Current character t position at 15\n"
          ]
        }
      ]
    },
    {
      "cell_type": "code",
      "source": [
        "# Write a Python program to count and display vowels in text.\n",
        "\n",
        "string = \"Annarhysa Albert RA2111047010144\"\n",
        "vowels = \"AaEeIiOoUu\"\n",
        "final = [each for each in string if each in vowels]\n",
        "print(len(final))\n",
        "print(final)\n"
      ],
      "metadata": {
        "colab": {
          "base_uri": "https://localhost:8080/"
        },
        "id": "eG-H9icNCzqj",
        "outputId": "aff1cf93-1c04-40cb-c92c-ed1dca6404dd"
      },
      "execution_count": 10,
      "outputs": [
        {
          "output_type": "stream",
          "name": "stdout",
          "text": [
            "6\n",
            "['A', 'a', 'a', 'A', 'e', 'A']\n"
          ]
        }
      ]
    }
  ]
}