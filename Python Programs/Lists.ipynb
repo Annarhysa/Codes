{
  "nbformat": 4,
  "nbformat_minor": 0,
  "metadata": {
    "colab": {
      "provenance": []
    },
    "kernelspec": {
      "name": "python3",
      "display_name": "Python 3"
    },
    "language_info": {
      "name": "python"
    }
  },
  "cells": [
    {
      "cell_type": "code",
      "execution_count": 1,
      "metadata": {
        "colab": {
          "base_uri": "https://localhost:8080/"
        },
        "id": "sPGtllKLDLdr",
        "outputId": "d02c91c7-a89d-4178-9946-946fc9a441de"
      },
      "outputs": [
        {
          "output_type": "stream",
          "name": "stdout",
          "text": [
            "Concatenated list : ['Annarhysa', 'Albert', 'RA', '2111047010144']\n"
          ]
        }
      ],
      "source": [
        "# Concatenate two lists index-wise\n",
        "test_list1 = ['Annarhysa', 'Albert']\n",
        "test_list2 = ['RA', '2111047010144']\n",
        "for i in test_list2 :\n",
        "\ttest_list1.append(i)\n",
        "print (\"Concatenated list : \" + str(test_list1))"
      ]
    },
    {
      "cell_type": "code",
      "source": [
        "# Given a Python list of numbers. Turn every item of a list into its square\n",
        "\n",
        "aList=[1,2,3,4,5,6,7]\n",
        "print([i**2 for i in aList])"
      ],
      "metadata": {
        "colab": {
          "base_uri": "https://localhost:8080/"
        },
        "id": "DEHSMrfPDpZ5",
        "outputId": "b9e9043e-a997-4117-b61c-3f2968472437"
      },
      "execution_count": 2,
      "outputs": [
        {
          "output_type": "stream",
          "name": "stdout",
          "text": [
            "[1, 4, 9, 16, 25, 36, 49]\n"
          ]
        }
      ]
    },
    {
      "cell_type": "code",
      "source": [
        "# Concatenate two lists in the following order\n",
        "\n",
        "test_list1 = ['Annarhysa ', 'RA']\n",
        "test_list2 = ['Albert', '2111047010144']\n",
        "res = [i + j for i, j in zip(test_list1, test_list2)]\n",
        "print(res)"
      ],
      "metadata": {
        "colab": {
          "base_uri": "https://localhost:8080/"
        },
        "id": "8tzaiJohDvqN",
        "outputId": "07f5c104-00db-47a7-d4f9-909541fc145a"
      },
      "execution_count": 3,
      "outputs": [
        {
          "output_type": "stream",
          "name": "stdout",
          "text": [
            "['Annarhysa Albert', 'RA2111047010144']\n"
          ]
        }
      ]
    },
    {
      "cell_type": "code",
      "source": [
        "# Given a two Python list. Iterate both lists simultaneously such that list1 should display item in original order and list2 in reverse order\n",
        "\n",
        "test_list1 = ['Annarhysa ', 'RA']\n",
        "test_list2 = ['2111047010144', 'Albert']\n",
        "for x, y in zip(test_list1, test_list2[::-1]):\n",
        "    print(x, y)"
      ],
      "metadata": {
        "colab": {
          "base_uri": "https://localhost:8080/"
        },
        "id": "Y5_N4n0iD1dx",
        "outputId": "4df13d45-5f89-439d-b190-22076ab15d28"
      },
      "execution_count": 4,
      "outputs": [
        {
          "output_type": "stream",
          "name": "stdout",
          "text": [
            "Annarhysa  Albert\n",
            "RA 2111047010144\n"
          ]
        }
      ]
    },
    {
      "cell_type": "code",
      "source": [
        "# Remove empty strings from the list of strings\n",
        "\n",
        "test_list1 = [\"Annarhysa\", \"\", \"Albert\", \"RA\", \"\", \"2111047010144\"]\n",
        "res = list(filter(None, test_list1))\n",
        "print(res)"
      ],
      "metadata": {
        "colab": {
          "base_uri": "https://localhost:8080/"
        },
        "id": "hZVvd9DvEBwT",
        "outputId": "558f49ca-2f8b-44d4-9fcc-9a47a9e4776e"
      },
      "execution_count": 5,
      "outputs": [
        {
          "output_type": "stream",
          "name": "stdout",
          "text": [
            "['Annarhysa', 'Albert', 'RA', '2111047010144']\n"
          ]
        }
      ]
    },
    {
      "cell_type": "code",
      "source": [
        "# Given two strings, s1 and s2, create a new string by appending s2 in themiddle of s1\n",
        "\n",
        "s1 =\"Annarhysa  Albert\"\n",
        "s2 = \"RA2111047010144\"\n",
        "mi = int(len(s1) / 2) + 2\n",
        "x = s1[:mi:]\n",
        "x = x + s2\n",
        "x = x + s1[mi:]\n",
        "print(\"After appending new string in middle:\", x)"
      ],
      "metadata": {
        "colab": {
          "base_uri": "https://localhost:8080/"
        },
        "id": "FF1eFIvVEHRV",
        "outputId": "e3b90d54-d68e-45f0-d4fb-2a88042939be"
      },
      "execution_count": 6,
      "outputs": [
        {
          "output_type": "stream",
          "name": "stdout",
          "text": [
            "After appending new string in middle: Annarhysa RA2111047010144 Albert\n"
          ]
        }
      ]
    },
    {
      "cell_type": "code",
      "source": [
        "# Given two strings, s1, and s2 return a new string made of the first, middle, and last characters each input string\n",
        "\n",
        "s1 =\"Annarhysa Albert\"\n",
        "s2 = \"RA2111047010144\"\n",
        "first_char = s1[0] + s2[0]\n",
        "middle_char = s1[int(len(s1) / 2):int(len(s1) / 2) + 1] + s2[int(len(s2) / 2):int(len(s2) / 2) + 1]\n",
        "last_char = s1[len(s1) - 1] + s2[len(s2) - 1]\n",
        "res = first_char + middle_char + last_char\n",
        "print(res)"
      ],
      "metadata": {
        "colab": {
          "base_uri": "https://localhost:8080/"
        },
        "id": "PCk-RfZIENQS",
        "outputId": "2c1c9468-7c75-44ef-b25b-50cd2f8314da"
      },
      "execution_count": 7,
      "outputs": [
        {
          "output_type": "stream",
          "name": "stdout",
          "text": [
            "ARa4t4\n"
          ]
        }
      ]
    },
    {
      "cell_type": "code",
      "source": [
        "# Find all occurrences of “USA” in a given string ignoring the case\n",
        "\n",
        "str1 = \"Hi I am Annarhysa Albert. Annarhysa Albert is a very fun-loving enthusiast of Machine Learning\"\n",
        "sub_string = \"Annarhysa Albert\"\n",
        "temp_str = str1.lower()\n",
        "count = temp_str.count(sub_string.lower())\n",
        "print(\"Occurrence count: \",count)\n",
        "\n"
      ],
      "metadata": {
        "id": "bGxE3Z-YEWrY",
        "outputId": "3a33add6-db1a-46c8-e019-586d0648602f",
        "colab": {
          "base_uri": "https://localhost:8080/"
        }
      },
      "execution_count": 8,
      "outputs": [
        {
          "output_type": "stream",
          "name": "stdout",
          "text": [
            "Occurrence count:  2\n"
          ]
        }
      ]
    }
  ]
}