{
  "nbformat": 4,
  "nbformat_minor": 0,
  "metadata": {
    "colab": {
      "provenance": []
    },
    "kernelspec": {
      "name": "python3",
      "display_name": "Python 3"
    },
    "language_info": {
      "name": "python"
    }
  },
  "cells": [
    {
      "cell_type": "code",
      "execution_count": null,
      "metadata": {
        "colab": {
          "base_uri": "https://localhost:8080/"
        },
        "id": "Y_kmu-USal8j",
        "outputId": "a766e499-56b5-400a-a8bb-4978d9e401fe"
      },
      "outputs": [
        {
          "output_type": "stream",
          "name": "stdout",
          "text": [
            "Resultant dictionary is : {'Ananrhysa Albert': 144, 'Raspberry pi': 'Sem 5th'}\n"
          ]
        }
      ],
      "source": [
        "# Exercise 1: Convert two lists into a dictionary\n",
        "\n",
        "keys = [\"Ananrhysa Albert\", \"Raspberry pi\"]\n",
        "values = [144, \"Sem 5th\"]\n",
        "\n",
        "res = {}\n",
        "for key in keys:\n",
        "    for value in values:\n",
        "        res[key] = value\n",
        "        values.remove(value)\n",
        "        break\n",
        "\n",
        "# Printing resultant dictionary\n",
        "print(\"Resultant dictionary is : \" + str(res))"
      ]
    },
    {
      "cell_type": "code",
      "source": [
        "# Exercise 2: Merge two Python dictionaries into one\n",
        "def Merge(dict1, dict2):\n",
        "    res = dict1 | dict2\n",
        "    return res\n",
        "\n",
        "dict1 = {'Annarhysa': \"Albert\"}\n",
        "dict2 = {'Roll No.' : \"RA2111047010144\"}\n",
        "\n",
        "print(Merge(dict1, dict2))"
      ],
      "metadata": {
        "colab": {
          "base_uri": "https://localhost:8080/"
        },
        "id": "ATzFs7oyaw_4",
        "outputId": "fbb3a201-c29c-401e-8d65-24509842de21"
      },
      "execution_count": null,
      "outputs": [
        {
          "output_type": "stream",
          "name": "stdout",
          "text": [
            "{'Annarhysa': 'Albert', 'Roll No.': 'RA2111047010144'}\n"
          ]
        }
      ]
    },
    {
      "cell_type": "code",
      "source": [
        "# Exercise 3: Print the value of key ‘history’ from the below dict\n",
        "\n",
        "sampleDict = {\n",
        "    \"class\": {\n",
        "        \"student\": {\n",
        "            \"name\": \"Mike\",\n",
        "            \"marks\": {\n",
        "                \"physics\": 70,\n",
        "                \"history\": 80\n",
        "            }\n",
        "        }\n",
        "    }\n",
        "}\n",
        "\n",
        "print(sampleDict['class']['student']['marks']['history'])"
      ],
      "metadata": {
        "colab": {
          "base_uri": "https://localhost:8080/"
        },
        "id": "gRE3QBjRcswO",
        "outputId": "60d34b81-85fd-4fe7-ad12-077789c88a60"
      },
      "execution_count": null,
      "outputs": [
        {
          "output_type": "stream",
          "name": "stdout",
          "text": [
            "80\n"
          ]
        }
      ]
    },
    {
      "cell_type": "code",
      "source": [
        "# Exercise 4: Initialize dictionary with default values\n",
        "\n",
        "name = ['Annarhysa', 'Albert']\n",
        "value = {\"Rollno\": 'RA2111047010144', \"Sub\": \"Raspbery Pi\"}\n",
        "res = dict.fromkeys(name, value)\n",
        "print(res[\"Annarhysa\"])\n"
      ],
      "metadata": {
        "id": "VyI4vy3xfd3i",
        "colab": {
          "base_uri": "https://localhost:8080/"
        },
        "outputId": "d1dc124d-cf0e-490d-9e9b-9dd9d80171f5"
      },
      "execution_count": 1,
      "outputs": [
        {
          "output_type": "stream",
          "name": "stdout",
          "text": [
            "{'Rollno': 'RA2111047010144', 'Sub': 'Raspbery Pi'}\n"
          ]
        }
      ]
    },
    {
      "cell_type": "code",
      "source": [
        "# Exercise 5: Create a dictionary by extracting the keys from a given dictionary\n",
        "\n",
        "sample_dict = {\n",
        "    \"name\": \"Annarhysa Albert\",\n",
        "    \"age\": 19,\n",
        "    \"RollNo\": \"RA2111047010144\"}\n",
        "keys = [\"name\", \"RollNo\"]\n",
        "newDict = {k: sample_dict[k] for k in keys}\n",
        "print(newDict)\n",
        "\n"
      ],
      "metadata": {
        "id": "kZ8I2xO9iuZn",
        "colab": {
          "base_uri": "https://localhost:8080/"
        },
        "outputId": "88055913-365d-4059-ab59-173847ff3e9a"
      },
      "execution_count": 2,
      "outputs": [
        {
          "output_type": "stream",
          "name": "stdout",
          "text": [
            "{'name': 'Annarhysa Albert', 'RollNo': 'RA2111047010144'}\n"
          ]
        }
      ]
    },
    {
      "cell_type": "code",
      "source": [
        "# Exercise 6: Delete a list of keys from a dictionary\n",
        "\n",
        "sample_dict = {\n",
        "    \"name\": \"Annarhysa Albert\",\n",
        "    \"age\": 19,\n",
        "    \"RollNo\": \"RA2111047010144\"}\n",
        "keys = [\"name\", \"RollNo\"]\n",
        "for k in keys:\n",
        "    sample_dict.pop(k)\n",
        "print(sample_dict)\n"
      ],
      "metadata": {
        "id": "lMw6vrATiyix",
        "colab": {
          "base_uri": "https://localhost:8080/"
        },
        "outputId": "5043475e-1669-4c0e-8c1f-f4f6e1fea69b"
      },
      "execution_count": 3,
      "outputs": [
        {
          "output_type": "stream",
          "name": "stdout",
          "text": [
            "{'age': 19}\n"
          ]
        }
      ]
    },
    {
      "cell_type": "code",
      "source": [
        "# Exercise 7: Check if a value exists in a dictionary\n",
        "sample_dict = {'a': 100, 'b': 200, 'c': 300}\n",
        "\n",
        "bool = 200 in sample_dict.values()\n",
        "if bool:\n",
        "  print('200 present in dict')\n",
        "else:\n",
        "  print('200 not present in dict')"
      ],
      "metadata": {
        "id": "wXHLJzO6i2qZ",
        "colab": {
          "base_uri": "https://localhost:8080/"
        },
        "outputId": "f9bf9df3-64ee-470a-edcb-9d433fae69a7"
      },
      "execution_count": null,
      "outputs": [
        {
          "output_type": "stream",
          "name": "stdout",
          "text": [
            "200 present in dict\n"
          ]
        }
      ]
    },
    {
      "cell_type": "code",
      "source": [
        "# Ezercise 8: Rename a key of a dictionary\n",
        "sample_dict = {\n",
        "  \"name\": \"Kelly\",\n",
        "  \"age\":25,\n",
        "  \"salary\": 8000,\n",
        "  \"city\": \"New york\"\n",
        "}\n",
        "\n",
        "sample_dict['location'] = sample_dict.pop('city')"
      ],
      "metadata": {
        "id": "gCVvxuUwjlqK"
      },
      "execution_count": null,
      "outputs": []
    },
    {
      "cell_type": "code",
      "source": [
        "print(sample_dict)"
      ],
      "metadata": {
        "colab": {
          "base_uri": "https://localhost:8080/"
        },
        "id": "qzjdkXoMkore",
        "outputId": "7837383c-69a2-46b6-fc35-55147a9ba0e1"
      },
      "execution_count": null,
      "outputs": [
        {
          "output_type": "stream",
          "name": "stdout",
          "text": [
            "{'name': 'Kelly', 'age': 25, 'salary': 8000, 'location': 'New york'}\n"
          ]
        }
      ]
    },
    {
      "cell_type": "code",
      "source": [
        "# Exercise 9: Get the key of a minimum value from the following dictionary\n",
        "sample_dict = {\n",
        "  'Physics': 82,\n",
        "  'Math': 65,\n",
        "  'history': 75\n",
        "}\n",
        "\n",
        "min(sample_dict, key=sample_dict.get)"
      ],
      "metadata": {
        "colab": {
          "base_uri": "https://localhost:8080/",
          "height": 35
        },
        "id": "POreQHzdks0t",
        "outputId": "725288c2-454a-4434-c452-b058bdbc345c"
      },
      "execution_count": null,
      "outputs": [
        {
          "output_type": "execute_result",
          "data": {
            "text/plain": [
              "'Math'"
            ],
            "application/vnd.google.colaboratory.intrinsic+json": {
              "type": "string"
            }
          },
          "metadata": {},
          "execution_count": 5
        }
      ]
    },
    {
      "cell_type": "code",
      "source": [
        "# Exercise 10: Change value of a key in a nested dictionary\n",
        "sample_dict = {\n",
        "    'emp1': {'name': 'Jhon', 'salary': 7500},\n",
        "    'emp2': {'name': 'Emma', 'salary': 8000},\n",
        "    'emp3': {'name': 'Brad', 'salary': 500}\n",
        "}\n",
        "\n",
        "sample_dict['emp3']['salary'] = 8500\n",
        "print(sample_dict)"
      ],
      "metadata": {
        "colab": {
          "base_uri": "https://localhost:8080/"
        },
        "id": "iF4S31FKlRXB",
        "outputId": "cd276d04-5c01-49d2-a6b2-28b05b87b974"
      },
      "execution_count": null,
      "outputs": [
        {
          "output_type": "stream",
          "name": "stdout",
          "text": [
            "{'emp1': {'name': 'Jhon', 'salary': 7500}, 'emp2': {'name': 'Emma', 'salary': 8000}, 'emp3': {'name': 'Brad', 'salary': 8500}}\n"
          ]
        }
      ]
    },
    {
      "cell_type": "code",
      "source": [
        "# Exercise 11: Python program to iterate over dictionaries using for loops.\n",
        "statesAndCapitals = {\n",
        "\t'Gujarat': 'Gandhinagar',\n",
        "\t'Maharashtra': 'Mumbai',\n",
        "\t'Rajasthan': 'Jaipur',\n",
        "\t'Bihar': 'Patna'\n",
        "}\n",
        "\n",
        "print('List Of given states and their capitals:\\n')\n",
        "\n",
        "for state, capital in statesAndCapitals.items():\n",
        "\tprint(state, \":\", capital)\n"
      ],
      "metadata": {
        "colab": {
          "base_uri": "https://localhost:8080/"
        },
        "id": "7doxEaWJlteT",
        "outputId": "fc59f3e8-30c0-41d5-fb81-f4195d35eb70"
      },
      "execution_count": null,
      "outputs": [
        {
          "output_type": "stream",
          "name": "stdout",
          "text": [
            "List Of given states and their capitals:\n",
            "\n",
            "Gujarat : Gandhinagar\n",
            "Maharashtra : Mumbai\n",
            "Rajasthan : Jaipur\n",
            "Bihar : Patna\n"
          ]
        }
      ]
    },
    {
      "cell_type": "code",
      "source": [
        "# Exercise 12: Python script to generate and print a dictionary that contains a number (between 1 and n) in the form (x, x*x)\n",
        "n = 5\n",
        "list1 = []\n",
        "list2 = []\n",
        "for i in range(1,n+1):\n",
        "  list1.append(i)\n",
        "  list2.append(i*i*i)"
      ],
      "metadata": {
        "id": "nJS5yleMm2g-"
      },
      "execution_count": null,
      "outputs": []
    },
    {
      "cell_type": "code",
      "source": [
        "result = dict(zip(list1,list2))\n",
        "print(result)"
      ],
      "metadata": {
        "colab": {
          "base_uri": "https://localhost:8080/"
        },
        "id": "wctE63Q8njhJ",
        "outputId": "8269d413-2b28-4a01-d430-c93d89a79034"
      },
      "execution_count": null,
      "outputs": [
        {
          "output_type": "stream",
          "name": "stdout",
          "text": [
            "{1: 1, 2: 8, 3: 27, 4: 64, 5: 125}\n"
          ]
        }
      ]
    },
    {
      "cell_type": "code",
      "source": [
        "# Exercise 13: Python program to map two lists into a dictionary.\n",
        "keys = [1,2,3,4]\n",
        "values = ['Interstellar','TDK','Inception','Oppenheimer']\n",
        "\n",
        "res = dict(map(lambda i,j : (i,j) , keys,values))\n",
        "print(res)"
      ],
      "metadata": {
        "colab": {
          "base_uri": "https://localhost:8080/"
        },
        "id": "Cto5VeEjnkvm",
        "outputId": "58e6e733-f293-4b42-93e9-7549947086a4"
      },
      "execution_count": null,
      "outputs": [
        {
          "output_type": "stream",
          "name": "stdout",
          "text": [
            "{1: 'Interstellar', 2: 'TDK', 3: 'Inception', 4: 'Oppenheimer'}\n"
          ]
        }
      ]
    },
    {
      "cell_type": "code",
      "source": [
        "# Exercise 14: Python program to remove duplicates from the dictionary.\n",
        "test_dict = {'Annarhysa': 10, 'Albert': 20, 'RA2111047010144': 20}\n",
        "temp = []\n",
        "res = dict()\n",
        "\n",
        "for key, val in test_dict.items():\n",
        "\n",
        "\tif val not in temp:\n",
        "\t\ttemp.append(val)\n",
        "\t\tres[key] = val\n",
        "\n",
        "print(\"The dictionary after values removal : \" + str(res))"
      ],
      "metadata": {
        "colab": {
          "base_uri": "https://localhost:8080/"
        },
        "id": "v3p4zHmroltv",
        "outputId": "5d2ab6be-031d-48a5-fb4e-c9d1cc72d254"
      },
      "execution_count": null,
      "outputs": [
        {
          "output_type": "stream",
          "name": "stdout",
          "text": [
            "The dictionary after values removal : {'Annarhysa': 10, 'Albert': 20}\n"
          ]
        }
      ]
    },
    {
      "cell_type": "code",
      "source": [
        "# Exercise 15: Python program to find the highest 3 values of corresponding keys in a dictionary\n",
        "my_dict = {'A': 67, 'B': 23, 'C': 45,\n",
        "\t\t'D': 56, 'E': 12, 'F': 69}\n",
        "\n",
        "print(\"Initial Dictionary:\")\n",
        "print(my_dict, \"\\n\")\n",
        "\n",
        "print(\"Dictionary with 3 highest values:\")\n",
        "print(\"Keys: Values\")\n",
        "\n",
        "x=list(my_dict.values())\n",
        "d=dict()\n",
        "x.sort(reverse=True)\n",
        "x=x[:3]\n",
        "for i in x:\n",
        "\tfor j in my_dict.keys():\n",
        "\t\tif(my_dict[j]==i):\n",
        "\t\t\tprint(str(j)+\" : \"+str(my_dict[j]))\n"
      ],
      "metadata": {
        "colab": {
          "base_uri": "https://localhost:8080/"
        },
        "id": "6LOM9kH2psJP",
        "outputId": "309adcfb-8799-483d-8490-d5443b2a9595"
      },
      "execution_count": null,
      "outputs": [
        {
          "output_type": "stream",
          "name": "stdout",
          "text": [
            "Initial Dictionary:\n",
            "{'A': 67, 'B': 23, 'C': 45, 'D': 56, 'E': 12, 'F': 69} \n",
            "\n",
            "Dictionary with 3 highest values:\n",
            "Keys: Values\n",
            "F : 69\n",
            "A : 67\n",
            "D : 56\n"
          ]
        }
      ]
    },
    {
      "cell_type": "code",
      "source": [],
      "metadata": {
        "id": "dEC2ZjHDqIQI"
      },
      "execution_count": null,
      "outputs": []
    }
  ]
}